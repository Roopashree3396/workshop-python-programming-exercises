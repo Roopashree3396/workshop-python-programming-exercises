{
  "nbformat": 4,
  "nbformat_minor": 0,
  "metadata": {
    "colab": {
      "name": "day2_session1_prog8",
      "provenance": [],
      "authorship_tag": "ABX9TyN0w7HaiuoeulwstX/OTmkW",
      "include_colab_link": true
    },
    "kernelspec": {
      "name": "python3",
      "display_name": "Python 3"
    }
  },
  "cells": [
    {
      "cell_type": "markdown",
      "metadata": {
        "id": "view-in-github",
        "colab_type": "text"
      },
      "source": [
        "<a href=\"https://colab.research.google.com/github/Roopashree3396/workshop-python-programming-exercises/blob/master/day2_session1_prog8.ipynb\" target=\"_parent\"><img src=\"https://colab.research.google.com/assets/colab-badge.svg\" alt=\"Open In Colab\"/></a>"
      ]
    },
    {
      "cell_type": "markdown",
      "metadata": {
        "id": "MwDudr_HXNGz",
        "colab_type": "text"
      },
      "source": [
        "Get rollno and marks (Rollno, mark) as list of tuples for n number of students through keyboard and print them in marks descending order with rollno."
      ]
    },
    {
      "cell_type": "code",
      "metadata": {
        "id": "Dqa-aWRVXDEQ",
        "colab_type": "code",
        "colab": {
          "base_uri": "https://localhost:8080/",
          "height": 235
        },
        "outputId": "7f516bc5-e3c1-42c1-bb4e-cc9acbf389b9"
      },
      "source": [
        "t=[]\n",
        "a=[]\n",
        "n=int(input(\"enter num of students: \"))\n",
        "for i in range(0,n):\n",
        "  e=int(input(\"enter rollnum: \"))\n",
        "  j=int(input(\"enter marks: \"))\n",
        "  t.append(e)\n",
        "  a.append(j)\n",
        "m = [(t[i], a[i]) for i in range(0, len(t))]\n",
        "print(\"input: \",m)\n",
        "m.sort(key = lambda x: x[1],reverse=1)  \n",
        "print(\"output\",m)"
      ],
      "execution_count": 2,
      "outputs": [
        {
          "output_type": "stream",
          "text": [
            "enter num of students: 5\n",
            "enter rollnum: 5\n",
            "enter marks: 2\n",
            "enter rollnum: 5\n",
            "enter marks: 65\n",
            "enter rollnum: 26\n",
            "enter marks: 30\n",
            "enter rollnum: 25\n",
            "enter marks: 56\n",
            "enter rollnum: 55\n",
            "enter marks: 65\n",
            "input:  [(5, 2), (5, 65), (26, 30), (25, 56), (55, 65)]\n",
            "output [(5, 65), (55, 65), (25, 56), (26, 30), (5, 2)]\n"
          ],
          "name": "stdout"
        }
      ]
    }
  ]
}