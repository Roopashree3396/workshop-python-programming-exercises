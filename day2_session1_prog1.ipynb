{
  "nbformat": 4,
  "nbformat_minor": 0,
  "metadata": {
    "colab": {
      "name": "day2_session1_prog1",
      "provenance": [],
      "authorship_tag": "ABX9TyPCs8z4Hn378kMWvocVDBzy",
      "include_colab_link": true
    },
    "kernelspec": {
      "name": "python3",
      "display_name": "Python 3"
    }
  },
  "cells": [
    {
      "cell_type": "markdown",
      "metadata": {
        "id": "view-in-github",
        "colab_type": "text"
      },
      "source": [
        "<a href=\"https://colab.research.google.com/github/Roopashree3396/workshop-python-programming-exercises/blob/master/day2_session1_prog1.ipynb\" target=\"_parent\"><img src=\"https://colab.research.google.com/assets/colab-badge.svg\" alt=\"Open In Colab\"/></a>"
      ]
    },
    {
      "cell_type": "markdown",
      "metadata": {
        "id": "_mon--VdTWSB",
        "colab_type": "text"
      },
      "source": [
        "List exercises:\n",
        "\n",
        "print multiples of 3 upto 200 using a list"
      ]
    },
    {
      "cell_type": "code",
      "metadata": {
        "id": "WV-G5aBhSsfp",
        "colab_type": "code",
        "colab": {
          "base_uri": "https://localhost:8080/",
          "height": 54
        },
        "outputId": "8dfd5e52-c60a-4e4f-93d8-e3650804c553"
      },
      "source": [
        "print(([i  for i in range(0,200) if i%3==0]))"
      ],
      "execution_count": 1,
      "outputs": [
        {
          "output_type": "stream",
          "text": [
            "[0, 3, 6, 9, 12, 15, 18, 21, 24, 27, 30, 33, 36, 39, 42, 45, 48, 51, 54, 57, 60, 63, 66, 69, 72, 75, 78, 81, 84, 87, 90, 93, 96, 99, 102, 105, 108, 111, 114, 117, 120, 123, 126, 129, 132, 135, 138, 141, 144, 147, 150, 153, 156, 159, 162, 165, 168, 171, 174, 177, 180, 183, 186, 189, 192, 195, 198]\n"
          ],
          "name": "stdout"
        }
      ]
    }
  ]
}