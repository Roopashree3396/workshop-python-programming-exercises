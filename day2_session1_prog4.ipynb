{
  "nbformat": 4,
  "nbformat_minor": 0,
  "metadata": {
    "colab": {
      "name": "day2_session1_prog4",
      "provenance": [],
      "authorship_tag": "ABX9TyOdnJn9XhCU9dXSj9eo1OCP",
      "include_colab_link": true
    },
    "kernelspec": {
      "name": "python3",
      "display_name": "Python 3"
    }
  },
  "cells": [
    {
      "cell_type": "markdown",
      "metadata": {
        "id": "view-in-github",
        "colab_type": "text"
      },
      "source": [
        "<a href=\"https://colab.research.google.com/github/Roopashree3396/workshop-python-programming-exercises/blob/master/day2_session1_prog4.ipynb\" target=\"_parent\"><img src=\"https://colab.research.google.com/assets/colab-badge.svg\" alt=\"Open In Colab\"/></a>"
      ]
    },
    {
      "cell_type": "markdown",
      "metadata": {
        "id": "Eg9iC8RGVok9",
        "colab_type": "text"
      },
      "source": [
        "Add the n number of names in a list and print them alphabetically and reverse alphabetically."
      ]
    },
    {
      "cell_type": "code",
      "metadata": {
        "id": "ERoY3LsYVeeZ",
        "colab_type": "code",
        "colab": {
          "base_uri": "https://localhost:8080/",
          "height": 168
        },
        "outputId": "4817bfcc-863c-4ef7-bc01-a8e9c46c417b"
      },
      "source": [
        "names=([(input()) for i in range(int(input(\"Enter n: \")))])\n",
        "print(\"Input :\",names)\n",
        "names.sort()\n",
        "print(\"alphabetically : \",names)\n",
        "names.sort(reverse=True)\n",
        "print(\"reverse alphabetically: \",names)"
      ],
      "execution_count": 1,
      "outputs": [
        {
          "output_type": "stream",
          "text": [
            "Enter n: 5\n",
            "6\n",
            "5\n",
            "9\n",
            "6\n",
            "\n",
            "Input : ['6', '5', '9', '6', '']\n",
            "alphabetically :  ['', '5', '6', '6', '9']\n",
            "reverse alphabetically:  ['9', '6', '6', '5', '']\n"
          ],
          "name": "stdout"
        }
      ]
    }
  ]
}