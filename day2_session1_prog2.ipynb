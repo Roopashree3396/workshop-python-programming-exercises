{
  "nbformat": 4,
  "nbformat_minor": 0,
  "metadata": {
    "colab": {
      "name": "day2_session1_prog2",
      "provenance": [],
      "authorship_tag": "ABX9TyOyDip/58/1T9R3Q5FXL4bl",
      "include_colab_link": true
    },
    "kernelspec": {
      "name": "python3",
      "display_name": "Python 3"
    }
  },
  "cells": [
    {
      "cell_type": "markdown",
      "metadata": {
        "id": "view-in-github",
        "colab_type": "text"
      },
      "source": [
        "<a href=\"https://colab.research.google.com/github/Roopashree3396/workshop-python-programming-exercises/blob/master/day2_session1_prog2.ipynb\" target=\"_parent\"><img src=\"https://colab.research.google.com/assets/colab-badge.svg\" alt=\"Open In Colab\"/></a>"
      ]
    },
    {
      "cell_type": "markdown",
      "metadata": {
        "id": "qyD8Gs4rU6B2",
        "colab_type": "text"
      },
      "source": [
        "print the nos only divisable by 5 and 7 between 1000 and 2000 using a list( both inclusive)"
      ]
    },
    {
      "cell_type": "code",
      "metadata": {
        "id": "VrmfwApHUzmx",
        "colab_type": "code",
        "colab": {
          "base_uri": "https://localhost:8080/",
          "height": 34
        },
        "outputId": "730fc91f-4c63-4d84-fc44-eb843c9e417a"
      },
      "source": [
        "print(([i  for i in range(1000,2000) if(i%5==0 and i%7==0)]))"
      ],
      "execution_count": 1,
      "outputs": [
        {
          "output_type": "stream",
          "text": [
            "[1015, 1050, 1085, 1120, 1155, 1190, 1225, 1260, 1295, 1330, 1365, 1400, 1435, 1470, 1505, 1540, 1575, 1610, 1645, 1680, 1715, 1750, 1785, 1820, 1855, 1890, 1925, 1960, 1995]\n"
          ],
          "name": "stdout"
        }
      ]
    }
  ]
}