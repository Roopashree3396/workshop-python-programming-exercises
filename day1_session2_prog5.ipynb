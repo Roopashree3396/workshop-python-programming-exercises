{
  "nbformat": 4,
  "nbformat_minor": 0,
  "metadata": {
    "colab": {
      "name": "day1_session2_prog5",
      "provenance": [],
      "authorship_tag": "ABX9TyO7VNs9bIAUdt16RFrIEK5E",
      "include_colab_link": true
    },
    "kernelspec": {
      "name": "python3",
      "display_name": "Python 3"
    }
  },
  "cells": [
    {
      "cell_type": "markdown",
      "metadata": {
        "id": "view-in-github",
        "colab_type": "text"
      },
      "source": [
        "<a href=\"https://colab.research.google.com/github/Roopashree3396/workshop-python-programming-exercises/blob/master/day1_session2_prog5.ipynb\" target=\"_parent\"><img src=\"https://colab.research.google.com/assets/colab-badge.svg\" alt=\"Open In Colab\"/></a>"
      ]
    },
    {
      "cell_type": "code",
      "metadata": {
        "id": "UTcfZSRlHLhN",
        "colab_type": "code",
        "colab": {
          "base_uri": "https://localhost:8080/",
          "height": 151
        },
        "outputId": "dd273d8d-547d-4658-cdc9-16dbb9c6cbe2"
      },
      "source": [
        "rows = 5\n",
        "n=rows-1\n",
        "for i in range(1, rows-1):\n",
        "    for j in range(i,rows):\n",
        "        print(j,end=\" \")\n",
        "    print()\n",
        "for i in range(n+1,0,-1):\n",
        "  for j in range(i,n+1):\n",
        "    print(j,end=\" \")\n",
        "  print()"
      ],
      "execution_count": 1,
      "outputs": [
        {
          "output_type": "stream",
          "text": [
            "1 2 3 4 \n",
            "2 3 4 \n",
            "3 4 \n",
            "\n",
            "4 \n",
            "3 4 \n",
            "2 3 4 \n",
            "1 2 3 4 \n"
          ],
          "name": "stdout"
        }
      ]
    }
  ]
}