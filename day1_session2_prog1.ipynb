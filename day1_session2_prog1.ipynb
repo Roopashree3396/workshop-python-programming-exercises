{
  "nbformat": 4,
  "nbformat_minor": 0,
  "metadata": {
    "colab": {
      "name": "day1_session2 prog1",
      "provenance": [],
      "authorship_tag": "ABX9TyPdfzA3+N5YKki2ID9gWhxF",
      "include_colab_link": true
    },
    "kernelspec": {
      "name": "python3",
      "display_name": "Python 3"
    }
  },
  "cells": [
    {
      "cell_type": "markdown",
      "metadata": {
        "id": "view-in-github",
        "colab_type": "text"
      },
      "source": [
        "<a href=\"https://colab.research.google.com/github/Roopashree3396/workshop-python-programming-exercises/blob/master/day1_session2_prog1.ipynb\" target=\"_parent\"><img src=\"https://colab.research.google.com/assets/colab-badge.svg\" alt=\"Open In Colab\"/></a>"
      ]
    },
    {
      "cell_type": "markdown",
      "metadata": {
        "id": "g4jPhnsOCMnZ",
        "colab_type": "text"
      },
      "source": [
        "Write a program to print the triangle"
      ]
    },
    {
      "cell_type": "code",
      "metadata": {
        "id": "0y8xjcLdB6Gi",
        "colab_type": "code",
        "colab": {
          "base_uri": "https://localhost:8080/",
          "height": 118
        },
        "outputId": "345631dc-322d-4da5-8ea1-22559ffaa92a"
      },
      "source": [
        "k=1\n",
        "n=int(input(\"enter n value: \"))\n",
        "for i in range(0,n):\n",
        "  if(i>=2):\n",
        "    k=i+1\n",
        "  for j in range(0,i+1):\n",
        "    print(k,end=\" \")\n",
        "    k=k+1\n",
        "  print()"
      ],
      "execution_count": 2,
      "outputs": [
        {
          "output_type": "stream",
          "text": [
            "enter n value: 5\n",
            "1 \n",
            "2 3 \n",
            "3 4 5 \n",
            "4 5 6 7 \n",
            "5 6 7 8 9 \n"
          ],
          "name": "stdout"
        }
      ]
    }
  ]
}