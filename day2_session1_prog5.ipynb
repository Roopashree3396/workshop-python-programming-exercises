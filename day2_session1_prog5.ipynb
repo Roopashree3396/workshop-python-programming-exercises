{
  "nbformat": 4,
  "nbformat_minor": 0,
  "metadata": {
    "colab": {
      "name": "day2_session1_prog5",
      "provenance": [],
      "authorship_tag": "ABX9TyOo7hDd1cD6GJSiRYB9QVAd",
      "include_colab_link": true
    },
    "kernelspec": {
      "name": "python3",
      "display_name": "Python 3"
    }
  },
  "cells": [
    {
      "cell_type": "markdown",
      "metadata": {
        "id": "view-in-github",
        "colab_type": "text"
      },
      "source": [
        "<a href=\"https://colab.research.google.com/github/Roopashree3396/workshop-python-programming-exercises/blob/master/day2_session1_prog5.ipynb\" target=\"_parent\"><img src=\"https://colab.research.google.com/assets/colab-badge.svg\" alt=\"Open In Colab\"/></a>"
      ]
    },
    {
      "cell_type": "markdown",
      "metadata": {
        "id": "WyXdEwnOWPqO",
        "colab_type": "text"
      },
      "source": [
        "\n",
        "Print perfect squares and divisible by 5 between 500 and 1000( (both inclusive) using list"
      ]
    },
    {
      "cell_type": "code",
      "metadata": {
        "id": "d99R6-vcWLFJ",
        "colab_type": "code",
        "colab": {
          "base_uri": "https://localhost:8080/",
          "height": 34
        },
        "outputId": "94b49b6b-83a9-482a-8ab0-0e8434dd9e39"
      },
      "source": [
        "\n",
        "def perfectSquares(l, r): \n",
        "\tfor i in range(l, r + 1): \n",
        "\t\tif ((i**(.5) == int(i**(.5))) and i%5==0): \n",
        "\t\t\tprint(i, end=\" \") \n",
        "perfectSquares(500, 1000)"
      ],
      "execution_count": 1,
      "outputs": [
        {
          "output_type": "stream",
          "text": [
            "625 900 "
          ],
          "name": "stdout"
        }
      ]
    }
  ]
}