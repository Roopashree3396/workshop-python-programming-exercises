{
  "nbformat": 4,
  "nbformat_minor": 0,
  "metadata": {
    "colab": {
      "name": "day1_session1",
      "provenance": [],
      "authorship_tag": "ABX9TyNbct9t8vKmCq17hCIzWM1/",
      "include_colab_link": true
    },
    "kernelspec": {
      "name": "python3",
      "display_name": "Python 3"
    }
  },
  "cells": [
    {
      "cell_type": "markdown",
      "metadata": {
        "id": "view-in-github",
        "colab_type": "text"
      },
      "source": [
        "<a href=\"https://colab.research.google.com/github/Roopashree3396/workshop-python-programming-exercises/blob/master/day1_%20%20session1.ipynb\" target=\"_parent\"><img src=\"https://colab.research.google.com/assets/colab-badge.svg\" alt=\"Open In Colab\"/></a>"
      ]
    },
    {
      "cell_type": "markdown",
      "metadata": {
        "id": "0foxibVvNOaO",
        "colab_type": "text"
      },
      "source": [
        "4.Write a program for finding surface areas of cylinder and cone using function."
      ]
    },
    {
      "cell_type": "code",
      "metadata": {
        "id": "Jd7vVagAM6Pm",
        "colab_type": "code",
        "colab": {
          "base_uri": "https://localhost:8080/",
          "height": 84
        },
        "outputId": "5d13d94f-e265-4330-c9a8-108383869025"
      },
      "source": [
        "\n",
        "import math\n",
        "def Cylinder(r,h):\n",
        "  return 2*math.pi*r*r*h\n",
        "def cone(r,h):\n",
        "  return (1/3)*math.pi*r*r*h\n",
        "r=int(input(\"enter r value : \"))\n",
        "h=int(input(\"enter h value\"))\n",
        "print(\"surface area of cylinder is : %.2f\"%Cylinder(r,h))\n",
        "print(\"surface area of cone is : %.2f \"%cone(r,h))"
      ],
      "execution_count": 2,
      "outputs": [
        {
          "output_type": "stream",
          "text": [
            "enter r value : 589\n",
            "enter h value256\n",
            "surface area of cylinder is : 558020846.07\n",
            "surface area of cone is : 93003474.34 \n"
          ],
          "name": "stdout"
        }
      ]
    }
  ]
}